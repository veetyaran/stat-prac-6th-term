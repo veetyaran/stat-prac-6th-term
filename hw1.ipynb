{
  "cells": [
    {
      "cell_type": "markdown",
      "metadata": {
        "id": "F1HbJvhLww1o"
      },
      "source": [
        "<a href=\"https://colab.research.google.com/drive/1Nx_klyuwQfMlq_v3woczmeeI3ZKiSdvY?usp=sharing\" target=\"_parent\"><img src=\"https://colab.research.google.com/assets/colab-badge.svg\" alt=\"Open In Colab\"/></a>"
      ]
    },
    {
      "cell_type": "markdown",
      "metadata": {
        "id": "xw8BD8v2oBGj"
      },
      "source": [
        "# Homework"
      ]
    },
    {
      "cell_type": "markdown",
      "metadata": {
        "id": "sSos7q2_oBGj"
      },
      "source": [
        "## Problem 1"
      ]
    },
    {
      "cell_type": "markdown",
      "metadata": {
        "id": "NiX8ePp0oBGk"
      },
      "source": [
        "Make a tuple containing natural numbers, the square of which is a multiple of 3, 4, but not a multiple of 8 and not exceeding 12345."
      ]
    },
    {
      "cell_type": "code",
      "execution_count": 92,
      "metadata": {
        "id": "XmPHEnS9oBGk"
      },
      "outputs": [],
      "source": [
        "result = tuple(n for n in range(1, int(12345**0.5) + 1) if (n*n) % 12 == 0 and (n*n) % 8 != 0)"
      ]
    },
    {
      "cell_type": "markdown",
      "metadata": {
        "id": "OZBeUyxcoBGk"
      },
      "source": [
        "## Problem 2"
      ]
    },
    {
      "cell_type": "markdown",
      "metadata": {
        "id": "zIfvg22noBGk"
      },
      "source": [
        "\n",
        "Write a function that takes a two-dimensional array and a string as input and returns an array rotated 90 degrees counterclockwise if the string 'left' was passed, and clockwise if the string 'right' was passed.\n",
        "\n",
        "Example for input: $\\begin{bmatrix} 1 & 2 & 3 \\\\ 4 & 5 & 6 \\\\ 7 & 8 & 9 \\end{bmatrix}$.\\\n",
        "If the string 'left' is passed, the function should return $\\begin{bmatrix} 3 & 6 & 9 \\\\ 2 & 5 & 8 \\\\ 1 & 4 & 7 \\end{bmatrix}$, and if the string 'right' is passed, the function should return $\\begin{bmatrix} 7 & 4 & 1 \\\\ 8 & 5 & 2 \\\\ 9 & 6 & 3 \\end{bmatrix}$."
      ]
    },
    {
      "cell_type": "code",
      "execution_count": 93,
      "metadata": {
        "colab": {
          "base_uri": "https://localhost:8080/"
        },
        "id": "HNvy_cRjoBGk",
        "outputId": "3e01fec6-3364-4233-a70a-dcd71dd6ca18"
      },
      "outputs": [
        {
          "name": "stdout",
          "output_type": "stream",
          "text": [
            "Rotate right:\n",
            "[[7, 4, 1], [8, 5, 2], [9, 6, 3]]\n",
            "\n",
            "Rotate left:\n",
            "[[3, 6, 9], [2, 5, 8], [1, 4, 7]]\n"
          ]
        }
      ],
      "source": [
        "def rotate_matrix(matrix, direction):\n",
        "    rows, cols = len(matrix), len(matrix[0])\n",
        "    if direction == 'left':\n",
        "        return [[matrix[r][cols - 1 - c] for r in range(rows)] for c in (range(cols))]\n",
        "    if direction == 'right':\n",
        "        return [[matrix[rows - 1 - r][c] for r in range(rows)] for c in range(cols)]\n",
        "    else:\n",
        "        print(\"Direction must be 'left' or 'right'\")\n",
        "\n",
        "matrix = [\n",
        "    [1, 2, 3],\n",
        "    [4, 5, 6],\n",
        "    [7, 8, 9]\n",
        "]\n",
        "\n",
        "print(\"Rotate right:\")\n",
        "print(rotate_matrix(matrix, 'right'))\n",
        "\n",
        "print(\"\\nRotate left:\")\n",
        "print(rotate_matrix(matrix, 'left'))"
      ]
    },
    {
      "cell_type": "markdown",
      "metadata": {
        "id": "_dY-PFlCoBGk"
      },
      "source": [
        "## Problem 3"
      ]
    },
    {
      "cell_type": "markdown",
      "metadata": {
        "id": "3CaIwcm0oBGk"
      },
      "source": [
        "Write a function that takes a string as input and returns a dictionary containing the number of occurrences of each character in the string.\n",
        "\n",
        "Example for the string 'hello, world!': {'h': 1, 'e': 1, 'l': 3, 'o': 2, ',': 1, ' ': 1, 'w': 1, 'r': 1, 'd': 1, '!': 1}."
      ]
    },
    {
      "cell_type": "code",
      "execution_count": 94,
      "metadata": {
        "colab": {
          "base_uri": "https://localhost:8080/"
        },
        "id": "rlSbHusZoBGk",
        "outputId": "1cb29a35-9cfc-4060-c0ce-d9b5f2e1acc7"
      },
      "outputs": [
        {
          "name": "stdout",
          "output_type": "stream",
          "text": [
            "{'h': 1, 'e': 1, 'l': 3, 'o': 2, ',': 1, ' ': 1, 'w': 1, 'r': 1, 'd': 1, '!': 1}\n"
          ]
        }
      ],
      "source": [
        "def count_characters(str):\n",
        "    result = {}\n",
        "    for char in str:\n",
        "        if char in result:\n",
        "            result[char] += 1\n",
        "        else:\n",
        "            result[char] = 1\n",
        "    return result\n",
        "\n",
        "print(count_characters(\"hello, world!\"))"
      ]
    },
    {
      "cell_type": "markdown",
      "metadata": {
        "id": "KBGJ7PeboBGk"
      },
      "source": [
        "## Problem 4"
      ]
    },
    {
      "cell_type": "markdown",
      "metadata": {
        "id": "XS4Seqa9oBGk"
      },
      "source": [
        "### Implementing a Library Management System\n",
        "\n",
        "#### Description\n",
        "\n",
        "You are required to design and implement a system for managing books and users in a library. The system should allow for the management of books (adding, deleting, searching by various criteria) and users (registration, deletion, searching), as well as tracking the history of interactions between them (issuing and returning books).\n",
        "\n",
        "#### Tasks\n",
        "\n",
        "1. **`Book` Class**:\n",
        "   - Attributes: title, author, year of publication, ISBN, number of copies.\n",
        "   - Methods: constructor, methods to get information about the book, method to change the number of copies (when issuing and returning books).\n",
        "\n",
        "2. **`User` Class**:\n",
        "   - Attributes: user name, library card number, list of borrowed books.\n",
        "   - Methods: constructor, methods for user registration, methods for adding and removing books from the borrowed list.\n",
        "\n",
        "3. **`Library` Class**:\n",
        "   - Attributes: list of books, list of users, transaction history (who, when, which book was borrowed and returned).\n",
        "   - Methods: constructor, methods for adding and deleting books and users, methods for issuing and returning books, searching for books and users by various criteria, method to display the transaction history.\n",
        "\n",
        "#### Assignment\n",
        "\n",
        "1. Implement the `Book`, `User`, and `Library` classes with the specified attributes and methods.\n",
        "2. Create several books and users, and add them to the library system.\n",
        "3. Implement scenarios for issuing books to users and their return.\n",
        "4. Display the transaction history to show how books were issued and returned.\n"
      ]
    },
    {
      "cell_type": "code",
      "execution_count": null,
      "metadata": {
        "colab": {
          "base_uri": "https://localhost:8080/"
        },
        "id": "IbqwtWWsoBGl",
        "outputId": "25578f0e-2d39-4c57-e005-1d3c58e32adb"
      },
      "outputs": [
        {
          "name": "stdout",
          "output_type": "stream",
          "text": [
            "Нина issued 'Literally 1984'\n",
            "Виктор issued 'Про геральта из спиртии'\n",
            "Виктор issued 'Антидемидович, перевод на русский'\n",
            "Нина returned 'Literally 1984'\n",
            "Остап Бендер issued 'Антидемидович, перевод на русский'\n",
            "Остап Бендер issued 'Антидемидович, перевод на русский'\n",
            "Остап Бендер issued 'Антидемидович, перевод на русский'\n",
            "Виктор returned 'Про геральта из спиртии'\n",
            "Виктор returned 'Антидемидович, перевод на русский'\n"
          ]
        }
      ],
      "source": [
        "class Book:\n",
        "    def __init__(self, title, author, year, isbn, copies):\n",
        "        self.title = title\n",
        "        self.author = author\n",
        "        self.year = year\n",
        "        self.isbn = isbn\n",
        "        self.copies = copies\n",
        "\n",
        "    def info(self):\n",
        "        return f\"{self.title} by {self.author} ({self.year}), ISBN: {self.isbn}, Copies: {self.copies}\"\n",
        "\n",
        "    def update_copies(self, delta):\n",
        "        self.copies += delta\n",
        "\n",
        "\n",
        "class User:\n",
        "    def __init__(self, name, card_number):\n",
        "        self.name = name\n",
        "        self.card_number = card_number\n",
        "        self.borrowed_books = []\n",
        "\n",
        "    def borrow_book(self, book):\n",
        "        self.borrowed_books.append(book)\n",
        "\n",
        "    def return_book(self, book):\n",
        "        self.borrowed_books.remove(book)\n",
        "\n",
        "\n",
        "class Library:\n",
        "    def __init__(self):\n",
        "        self.books = []\n",
        "        self.users = []\n",
        "        self.history = []\n",
        "\n",
        "    def add_book(self, book):\n",
        "        self.books.append(book)\n",
        "\n",
        "    def delete_book(self, isbn):\n",
        "        self.books = [b for b in self.books if b.isbn != isbn]\n",
        "\n",
        "    def search_books(self, keyword):\n",
        "        return [b for b in self.books if keyword.lower() in b.title.lower() or keyword.lower() in b.author.lower()]\n",
        "\n",
        "    def register_user(self, user):\n",
        "        self.users.append(user)\n",
        "\n",
        "    def delete_user(self, card_number):\n",
        "        self.users = [u for u in self.users if u.card_number != card_number]\n",
        "\n",
        "    def find_user(self, card_number):\n",
        "        return next((u for u in self.users if u.card_number == card_number), None)\n",
        "\n",
        "    def find_book(self, isbn):\n",
        "        return next((b for b in self.books if b.isbn == isbn), None)\n",
        "\n",
        "    def issue_book(self, isbn, card_number):\n",
        "        user = self.find_user(card_number)\n",
        "        book = self.find_book(isbn)\n",
        "        if user and book and book.copies > 0:\n",
        "            user.borrow_book(book)\n",
        "            book.update_copies(-1)\n",
        "            self.history.append((user.name, book.title, \"issued\"))\n",
        "\n",
        "    def return_book(self, isbn, card_number):\n",
        "        user = self.find_user(card_number)\n",
        "        book = self.find_book(isbn)\n",
        "        if user and book and book in user.borrowed_books:\n",
        "            user.return_book(book)\n",
        "            book.update_copies(1)\n",
        "            self.history.append((user.name, book.title, \"returned\"))\n",
        "\n",
        "    def show_history(self):\n",
        "        for entry in self.history:\n",
        "            print(f\"{entry[0]} {entry[2]} '{entry[1]}'\")\n",
        "\n",
        "\n",
        "# Example usage\n",
        "if __name__ == \"__main__\":\n",
        "    lib = Library()\n",
        "\n",
        "    # Add books\n",
        "    b1 = Book(\"Literally 1984\", \"Джордж Оруэлл\", 1949, \"01\", 3)\n",
        "    b2 = Book(\"Про геральта из спиртии\", \"Анджей Сапковский\", 1992, \"02\", 2)\n",
        "    b3 = Book(\"Антидемидович, перевод на русский\", \"Без Плаща\", 2035, \"03\", 550)\n",
        "    lib.add_book(b1)\n",
        "    lib.add_book(b2)\n",
        "    lib.add_book(b3)\n",
        "\n",
        "    # Add users\n",
        "    u1 = User(\"Нина\", \"U001\")\n",
        "    u2 = User(\"Виктор\", \"U002\")\n",
        "    u3 = User(\"Остап Бендер\", \"U003\")\n",
        "    lib.register_user(u1)\n",
        "    lib.register_user(u2)\n",
        "    lib.register_user(u3)\n",
        "\n",
        "    # Issue/Return\n",
        "    lib.issue_book(\"01\", \"U001\")\n",
        "    lib.issue_book(\"02\", \"U002\")\n",
        "    lib.issue_book(\"03\", \"U002\")\n",
        "    lib.return_book(\"01\", \"U001\")\n",
        "    lib.issue_book(\"03\", \"U003\")\n",
        "    lib.issue_book(\"03\", \"U003\")\n",
        "    lib.issue_book(\"03\", \"U003\")\n",
        "    lib.return_book(\"02\", \"U002\")\n",
        "    lib.return_book(\"03\", \"U002\");\n",
        "\n",
        "    # Show history\n",
        "    lib.show_history()\n"
      ]
    },
    {
      "cell_type": "markdown",
      "metadata": {
        "id": "0c8zRbSIoBGl"
      },
      "source": [
        "## Problem 5*"
      ]
    },
    {
      "cell_type": "markdown",
      "metadata": {
        "id": "8ltdzRmOoBGl"
      },
      "source": [
        "Explain why list `b` changes after the execution of the following code:\n",
        "\n",
        "```python\n",
        "a = [1, 2, 3]\n",
        "b = a\n",
        "a[0] = 4\n",
        "print(b)\n",
        "```"
      ]
    },
    {
      "cell_type": "code",
      "execution_count": 96,
      "metadata": {
        "colab": {
          "base_uri": "https://localhost:8080/"
        },
        "id": "v9IMxxHEpLAy",
        "outputId": "953c4829-a358-4efd-c75d-6ed6ecedac3d"
      },
      "outputs": [
        {
          "name": "stdout",
          "output_type": "stream",
          "text": [
            "[4, 2, 3]\n"
          ]
        }
      ],
      "source": [
        "a = [1, 2, 3]\n",
        "b = a\n",
        "a[0] = 4\n",
        "print(b)"
      ]
    },
    {
      "cell_type": "markdown",
      "metadata": {
        "id": "RxgnUfFPoBGl"
      },
      "source": [
        "> Write your answer in markdown cell after:"
      ]
    },
    {
      "cell_type": "markdown",
      "metadata": {
        "id": "Mb-amOX5oBGl"
      },
      "source": [
        "b = a это присвоение ссылки, они ссылаются на один и тот же объект в памяти"
      ]
    },
    {
      "cell_type": "markdown",
      "metadata": {
        "id": "TmXLkc_foBGl"
      },
      "source": [
        "## Problem 6*"
      ]
    },
    {
      "cell_type": "markdown",
      "metadata": {
        "id": "Gn0ibiVCoBGl"
      },
      "source": [
        "Let\n",
        "$$A = \\sum_{i=1}^{10000} \\frac{1}{i^2},\\quad B=\\sum_{i=10000}^{1} \\frac{1}{i^2}.$$\n",
        "Calculate the values of $A$ and $B$ and compare them. What do you observe? Explain why this happens. What is the best way to calculate the value of $\\sum\\limits_{i=1}^{10000} \\dfrac{1}{i^2}$?"
      ]
    },
    {
      "cell_type": "code",
      "execution_count": 97,
      "metadata": {
        "colab": {
          "base_uri": "https://localhost:8080/"
        },
        "id": "3q93uGqFoBGl",
        "outputId": "9f62192c-74f2-4c96-def2-12eb23561dfe"
      },
      "outputs": [
        {
          "name": "stdout",
          "output_type": "stream",
          "text": [
            "A (forward)  = 1.6448340718480652\n",
            "B (backward) = 1.6448340718480596\n",
            "Difference   = 0.00000000000000555112\n",
            "ПРИМЕР1:\n",
            " big = 1e16\n",
            " small = 1e-5\n",
            " small + big = 1000000000000.0000000000000000\n"
          ]
        }
      ],
      "source": [
        "def compute_sum_forward(n):\n",
        "    return sum(1 / (i * i) for i in range(1, n + 1))\n",
        "\n",
        "def compute_sum_backward(n):\n",
        "    return sum(1 / (i * i) for i in reversed(range(1, n + 1)))\n",
        "\n",
        "n = 10000\n",
        "A = compute_sum_forward(n)\n",
        "B = compute_sum_backward(n)\n",
        "\n",
        "print(f\"A (forward)  = {A:.16f}\")\n",
        "print(f\"B (backward) = {B:.16f}\")\n",
        "print(f\"Difference   = {abs(A - B):.20f}\")\n",
        "\n",
        "big = 1000000000000\n",
        "small = 1e-5\n",
        "result = small + big\n",
        "print(f\"ПРИМЕР1:\\n big = 1e16\\n small = 1e-5\\n small + big = {result:.16f}\")"
      ]
    },
    {
      "cell_type": "markdown",
      "metadata": {
        "id": "6-_Hy0VNqpVq"
      },
      "source": [
        "При подсчете А, последние (очень малые) числа прибавляются к уже накопленной сравнительно большой сумме, в результате чего происходит то же, что в ПРИМЕРЕ1 сверху (ошибка округления числа с плавающей точкой). В сумме B эти самые малые числа складываются друг с другом в первую очередь, поэтому ошибка при округлении будет меньше"
      ]
    }
  ],
  "metadata": {
    "colab": {
      "provenance": []
    },
    "kernelspec": {
      "display_name": "Python 3",
      "language": "python",
      "name": "python3"
    },
    "language_info": {
      "codemirror_mode": {
        "name": "ipython",
        "version": 3
      },
      "file_extension": ".py",
      "mimetype": "text/x-python",
      "name": "python",
      "nbconvert_exporter": "python",
      "pygments_lexer": "ipython3",
      "version": "3.10.6"
    }
  },
  "nbformat": 4,
  "nbformat_minor": 0
}
